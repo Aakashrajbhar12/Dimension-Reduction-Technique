{
 "cells": [
  {
   "cell_type": "markdown",
   "id": "dadc9a81",
   "metadata": {},
   "source": [
    "### PCA Technique"
   ]
  },
  {
   "cell_type": "markdown",
   "id": "353ec133",
   "metadata": {},
   "source": [
    "Problem Starement: Apply the PCA Technique to the Following Dataset\n",
    "    \n",
    "Dataset --> PCA.csv"
   ]
  },
  {
   "cell_type": "code",
   "execution_count": 1,
   "id": "4bdb8b18",
   "metadata": {},
   "outputs": [],
   "source": [
    "#Importing the Required Libraries\n",
    "import pandas as pd \n",
    "import numpy as np\n",
    "from sklearn.decomposition import PCA\n",
    "import matplotlib.pyplot as plt\n",
    "import seaborn as sns\n",
    "from sklearn.preprocessing import scale "
   ]
  },
  {
   "cell_type": "code",
   "execution_count": 2,
   "id": "762be1cb",
   "metadata": {},
   "outputs": [
    {
     "data": {
      "text/html": [
       "<div>\n",
       "<style scoped>\n",
       "    .dataframe tbody tr th:only-of-type {\n",
       "        vertical-align: middle;\n",
       "    }\n",
       "\n",
       "    .dataframe tbody tr th {\n",
       "        vertical-align: top;\n",
       "    }\n",
       "\n",
       "    .dataframe thead th {\n",
       "        text-align: right;\n",
       "    }\n",
       "</style>\n",
       "<table border=\"1\" class=\"dataframe\">\n",
       "  <thead>\n",
       "    <tr style=\"text-align: right;\">\n",
       "      <th></th>\n",
       "      <th>fixed acidity</th>\n",
       "      <th>volatile acidity</th>\n",
       "      <th>citric acid</th>\n",
       "      <th>residual sugar</th>\n",
       "      <th>chlorides</th>\n",
       "      <th>free sulfur dioxide</th>\n",
       "      <th>total sulfur dioxide</th>\n",
       "      <th>density</th>\n",
       "      <th>pH</th>\n",
       "      <th>sulphates</th>\n",
       "      <th>alcohol</th>\n",
       "      <th>quality</th>\n",
       "    </tr>\n",
       "  </thead>\n",
       "  <tbody>\n",
       "    <tr>\n",
       "      <th>0</th>\n",
       "      <td>7.4</td>\n",
       "      <td>0.70</td>\n",
       "      <td>0.00</td>\n",
       "      <td>1.9</td>\n",
       "      <td>0.076</td>\n",
       "      <td>11.0</td>\n",
       "      <td>34.0</td>\n",
       "      <td>0.9978</td>\n",
       "      <td>3.51</td>\n",
       "      <td>0.56</td>\n",
       "      <td>9.4</td>\n",
       "      <td>5</td>\n",
       "    </tr>\n",
       "    <tr>\n",
       "      <th>1</th>\n",
       "      <td>7.8</td>\n",
       "      <td>0.88</td>\n",
       "      <td>0.00</td>\n",
       "      <td>2.6</td>\n",
       "      <td>0.098</td>\n",
       "      <td>25.0</td>\n",
       "      <td>67.0</td>\n",
       "      <td>0.9968</td>\n",
       "      <td>3.20</td>\n",
       "      <td>0.68</td>\n",
       "      <td>9.8</td>\n",
       "      <td>5</td>\n",
       "    </tr>\n",
       "    <tr>\n",
       "      <th>2</th>\n",
       "      <td>7.8</td>\n",
       "      <td>0.76</td>\n",
       "      <td>0.04</td>\n",
       "      <td>2.3</td>\n",
       "      <td>0.092</td>\n",
       "      <td>15.0</td>\n",
       "      <td>54.0</td>\n",
       "      <td>0.9970</td>\n",
       "      <td>3.26</td>\n",
       "      <td>0.65</td>\n",
       "      <td>9.8</td>\n",
       "      <td>5</td>\n",
       "    </tr>\n",
       "    <tr>\n",
       "      <th>3</th>\n",
       "      <td>11.2</td>\n",
       "      <td>0.28</td>\n",
       "      <td>0.56</td>\n",
       "      <td>1.9</td>\n",
       "      <td>0.075</td>\n",
       "      <td>17.0</td>\n",
       "      <td>60.0</td>\n",
       "      <td>0.9980</td>\n",
       "      <td>3.16</td>\n",
       "      <td>0.58</td>\n",
       "      <td>9.8</td>\n",
       "      <td>6</td>\n",
       "    </tr>\n",
       "    <tr>\n",
       "      <th>4</th>\n",
       "      <td>7.4</td>\n",
       "      <td>0.70</td>\n",
       "      <td>0.00</td>\n",
       "      <td>1.9</td>\n",
       "      <td>0.076</td>\n",
       "      <td>11.0</td>\n",
       "      <td>34.0</td>\n",
       "      <td>0.9978</td>\n",
       "      <td>3.51</td>\n",
       "      <td>0.56</td>\n",
       "      <td>9.4</td>\n",
       "      <td>5</td>\n",
       "    </tr>\n",
       "  </tbody>\n",
       "</table>\n",
       "</div>"
      ],
      "text/plain": [
       "   fixed acidity  volatile acidity  citric acid  residual sugar  chlorides  \\\n",
       "0            7.4              0.70         0.00             1.9      0.076   \n",
       "1            7.8              0.88         0.00             2.6      0.098   \n",
       "2            7.8              0.76         0.04             2.3      0.092   \n",
       "3           11.2              0.28         0.56             1.9      0.075   \n",
       "4            7.4              0.70         0.00             1.9      0.076   \n",
       "\n",
       "   free sulfur dioxide  total sulfur dioxide  density    pH  sulphates  \\\n",
       "0                 11.0                  34.0   0.9978  3.51       0.56   \n",
       "1                 25.0                  67.0   0.9968  3.20       0.68   \n",
       "2                 15.0                  54.0   0.9970  3.26       0.65   \n",
       "3                 17.0                  60.0   0.9980  3.16       0.58   \n",
       "4                 11.0                  34.0   0.9978  3.51       0.56   \n",
       "\n",
       "   alcohol  quality  \n",
       "0      9.4        5  \n",
       "1      9.8        5  \n",
       "2      9.8        5  \n",
       "3      9.8        6  \n",
       "4      9.4        5  "
      ]
     },
     "execution_count": 2,
     "metadata": {},
     "output_type": "execute_result"
    }
   ],
   "source": [
    "#Loading the Dataset\n",
    "Dataset = pd.read_csv(\"C:/Users/Akaash/Downloads/winequality-red.csv\")\n",
    "Dataset.head()"
   ]
  },
  {
   "cell_type": "code",
   "execution_count": 3,
   "id": "424430d2",
   "metadata": {},
   "outputs": [
    {
     "data": {
      "text/plain": [
       "(1599, 12)"
      ]
     },
     "execution_count": 3,
     "metadata": {},
     "output_type": "execute_result"
    }
   ],
   "source": [
    "#Checking the Shape\n",
    "Dataset.shape"
   ]
  },
  {
   "cell_type": "code",
   "execution_count": 4,
   "id": "da19ef57",
   "metadata": {},
   "outputs": [
    {
     "data": {
      "text/plain": [
       "array([[-0.52835961,  0.96187667, -1.39147228, ..., -0.57920652,\n",
       "        -0.96024611, -0.78782264],\n",
       "       [-0.29854743,  1.96744245, -1.39147228, ...,  0.1289504 ,\n",
       "        -0.58477711, -0.78782264],\n",
       "       [-0.29854743,  1.29706527, -1.18607043, ..., -0.04808883,\n",
       "        -0.58477711, -0.78782264],\n",
       "       ...,\n",
       "       [-1.1603431 , -0.09955388, -0.72391627, ...,  0.54204194,\n",
       "         0.54162988,  0.45084835],\n",
       "       [-1.39015528,  0.65462046, -0.77526673, ...,  0.30598963,\n",
       "        -0.20930812, -0.78782264],\n",
       "       [-1.33270223, -1.21684919,  1.02199944, ...,  0.01092425,\n",
       "         0.54162988,  0.45084835]])"
      ]
     },
     "execution_count": 4,
     "metadata": {},
     "output_type": "execute_result"
    }
   ],
   "source": [
    "#Converting into numpy array -- as scale() requires array format\n",
    "array = Dataset.values\n",
    "#Normalizing the numerical data  by using scale()\n",
    "Normal = scale(array)\n",
    "Normal"
   ]
  },
  {
   "cell_type": "markdown",
   "id": "5204bda9",
   "metadata": {},
   "source": [
    "#### PCA"
   ]
  },
  {
   "cell_type": "code",
   "execution_count": 5,
   "id": "65850d5e",
   "metadata": {},
   "outputs": [],
   "source": [
    "#Creating PCA() instance, n_components = 12 --> Creating 12 PC's. --> As There are 12 Dimension in the Dataset\n",
    "#(It is not necessary to give n_components as pca will create itself based on the dimension present)\n",
    "pca = PCA(n_components = 12)\n",
    "pca_values = pca.fit_transform(Normal)"
   ]
  },
  {
   "cell_type": "code",
   "execution_count": 6,
   "id": "8a1593b8",
   "metadata": {},
   "outputs": [
    {
     "data": {
      "text/plain": [
       "array([[-1.77944158,  1.15730315, -1.38658056, ...,  0.07311218,\n",
       "        -0.2629366 ,  0.0483618 ],\n",
       "       [-1.00418467,  2.07183784,  0.00775877, ..., -0.56573584,\n",
       "         0.04878357, -0.13956516],\n",
       "       [-0.91578319,  1.3934342 , -0.69928641, ..., -0.16206469,\n",
       "        -0.19914047, -0.120391  ],\n",
       "       ...,\n",
       "       [-1.36626511, -0.51756099,  1.25069637, ..., -0.7528537 ,\n",
       "         0.23526637, -0.4022917 ],\n",
       "       [-2.36714672,  0.70354479,  0.89948219, ..., -0.72345329,\n",
       "         0.73725311,  0.03618731],\n",
       "       [-0.28877628, -1.24084585,  1.21809517, ...,  0.30587722,\n",
       "         0.77724576, -0.44916727]])"
      ]
     },
     "execution_count": 6,
     "metadata": {},
     "output_type": "execute_result"
    }
   ],
   "source": [
    "#Pca_values/scores\n",
    "pca_values"
   ]
  },
  {
   "cell_type": "markdown",
   "id": "269e6b18",
   "metadata": {},
   "source": [
    "Inference: pca_values Gives the 12 PC's"
   ]
  },
  {
   "cell_type": "code",
   "execution_count": 7,
   "id": "ba66e4e7",
   "metadata": {},
   "outputs": [
    {
     "data": {
      "text/plain": [
       "array([0.26009731, 0.1868235 , 0.14024331, 0.10125174, 0.0811053 ,\n",
       "       0.05521602, 0.05152648, 0.04215605, 0.03427563, 0.02732662,\n",
       "       0.01501822, 0.00495983])"
      ]
     },
     "execution_count": 7,
     "metadata": {},
     "output_type": "execute_result"
    }
   ],
   "source": [
    "# The amount of variance that each PCA explains is \n",
    "var = pca.explained_variance_ratio_\n",
    "var"
   ]
  },
  {
   "cell_type": "markdown",
   "id": "02de5061",
   "metadata": {},
   "source": [
    "Inference: Above Are the Variance of all 12 PC's, 1st PC Contain the Maximum variance (Maximum Information) i.e. 0.26 = 26%"
   ]
  },
  {
   "cell_type": "code",
   "execution_count": 8,
   "id": "63aec2c4",
   "metadata": {},
   "outputs": [
    {
     "data": {
      "text/plain": [
       "array([ 26.01,  44.69,  58.71,  68.84,  76.95,  82.47,  87.62,  91.84,\n",
       "        95.27,  98.  ,  99.5 , 100.  ])"
      ]
     },
     "execution_count": 8,
     "metadata": {},
     "output_type": "execute_result"
    }
   ],
   "source": [
    "# Cumulative variance \n",
    "var1 = np.cumsum(np.round(var,decimals = 4)*100)\n",
    "var1"
   ]
  },
  {
   "cell_type": "markdown",
   "id": "18879281",
   "metadata": {},
   "source": [
    "Inference: Above Are the Cumulative Variance of all 12 PC's, 1st PC Contain the Maximum variance (Maximum Information) i.e. 26.01, next PC contain 44.69 and So on till all 12 PC contains 100% Cumulative Variance"
   ]
  },
  {
   "cell_type": "code",
   "execution_count": 9,
   "id": "8db60a84",
   "metadata": {},
   "outputs": [
    {
     "data": {
      "text/plain": [
       "[<matplotlib.lines.Line2D at 0x23bf2e626d0>]"
      ]
     },
     "execution_count": 9,
     "metadata": {},
     "output_type": "execute_result"
    },
    {
     "data": {
      "image/png": "[encoded data removed]",
      "text/plain": [
       "<Figure size 432x288 with 1 Axes>"
      ]
     },
     "metadata": {
      "needs_background": "light"
     },
     "output_type": "display_data"
    }
   ],
   "source": [
    "# Variance plot for PCA components obtained \n",
    "plt.plot(var1,color=\"red\")"
   ]
  },
  {
   "cell_type": "markdown",
   "id": "2226992e",
   "metadata": {},
   "source": [
    "Inference: The Above Plot is of Cumulative Variance 1st PC with around 26%, 2nd PC Around 44% and so on till 12th PC overall 100%"
   ]
  },
  {
   "cell_type": "code",
   "execution_count": 10,
   "id": "974e0985",
   "metadata": {},
   "outputs": [
    {
     "data": {
      "text/plain": [
       "array([[ 0.48788336, -0.26512898,  0.47333547,  0.13915442,  0.19742679,\n",
       "        -0.04588071,  0.00406675,  0.37030119, -0.43272085,  0.25453535,\n",
       "        -0.07317678,  0.11248878],\n",
       "       [-0.00417321,  0.33896786, -0.1373581 ,  0.16773634,  0.18978819,\n",
       "         0.25948314,  0.36397137,  0.33078079, -0.06544015, -0.10933362,\n",
       "        -0.50270865, -0.47316621],\n",
       "       [-0.16482854, -0.22708884,  0.10022856,  0.24362014, -0.02660785,\n",
       "         0.61611132,  0.54073214, -0.16872267,  0.06977056,  0.21291324,\n",
       "         0.22497138,  0.22336929],\n",
       "       [-0.23109808,  0.04185824, -0.0567358 , -0.38303758,  0.65477782,\n",
       "        -0.03371148, -0.02845973, -0.20069341, -0.00546618,  0.56050237,\n",
       "        -0.09170143, -0.03666923],\n",
       "       [-0.07877938,  0.29937933, -0.12014871,  0.70936319,  0.26623723,\n",
       "        -0.15941286, -0.21845284,  0.20879298,  0.25764682,  0.21483493,\n",
       "         0.25972635,  0.13758414],\n",
       "       [ 0.0555313 ,  0.297287  ,  0.13663328,  0.10931059,  0.33733656,\n",
       "        -0.04264807,  0.1159536 , -0.42566742, -0.48035396, -0.40374303,\n",
       "         0.39217625, -0.14183046],\n",
       "       [-0.30721496, -0.62623369,  0.24414858,  0.28385429,  0.23054697,\n",
       "        -0.13826041, -0.11020865, -0.12254646,  0.18569166, -0.23340206,\n",
       "        -0.12171879, -0.41238785],\n",
       "       [ 0.20052866,  0.14612614,  0.29633271, -0.17062614, -0.18692254,\n",
       "        -0.01935607,  0.08989655,  0.07950023,  0.31469303,  0.27549158,\n",
       "         0.47118865, -0.61224719],\n",
       "       [-0.17457815, -0.06022334, -0.22097505,  0.27818728, -0.41993639,\n",
       "        -0.31800012,  0.12182276, -0.24907449, -0.46191598,  0.45268884,\n",
       "        -0.09652795, -0.24024309],\n",
       "       [-0.18295601,  0.15510563,  0.34608556, -0.05223656, -0.00386273,\n",
       "        -0.58538858,  0.58918824,  0.0435381 ,  0.20760989, -0.07191857,\n",
       "        -0.11060525,  0.26023979],\n",
       "       [-0.25643792,  0.37716123,  0.62432783,  0.08807787, -0.20861667,\n",
       "         0.23793317, -0.35504684, -0.23145306, -0.00559907,  0.09763703,\n",
       "        -0.3199487 ,  0.05246571],\n",
       "       [ 0.63857976,  0.00466168, -0.07003691,  0.18364637,  0.05393118,\n",
       "        -0.05192167,  0.06979295, -0.56664499,  0.34123006,  0.06779298,\n",
       "        -0.31764032,  0.00847048]])"
      ]
     },
     "execution_count": 10,
     "metadata": {},
     "output_type": "execute_result"
    }
   ],
   "source": [
    "#Eigen vectors\n",
    "pca.components_"
   ]
  },
  {
   "cell_type": "markdown",
   "id": "de2d3e8f",
   "metadata": {},
   "source": [
    "Inference: The Above is the Eigen Vector for the Given Dataset"
   ]
  },
  {
   "cell_type": "code",
   "execution_count": 11,
   "id": "9e1202b0",
   "metadata": {},
   "outputs": [
    {
     "data": {
      "text/plain": [
       "array([[-1.77944158],\n",
       "       [-1.00418467],\n",
       "       [-0.91578319],\n",
       "       ...,\n",
       "       [-1.36626511],\n",
       "       [-2.36714672],\n",
       "       [-0.28877628]])"
      ]
     },
     "execution_count": 11,
     "metadata": {},
     "output_type": "execute_result"
    }
   ],
   "source": [
    "#Fetching / Indexing pca1\n",
    "pca_values[:,0:1]"
   ]
  },
  {
   "cell_type": "code",
   "execution_count": 12,
   "id": "f05aee5a",
   "metadata": {},
   "outputs": [
    {
     "data": {
      "text/plain": [
       "<matplotlib.collections.PathCollection at 0x23bf2f459a0>"
      ]
     },
     "execution_count": 12,
     "metadata": {},
     "output_type": "execute_result"
    },
    {
     "data": {
      "image/png": "[encoded data removed]",
      "text/plain": [
       "<Figure size 432x288 with 1 Axes>"
      ]
     },
     "metadata": {
      "needs_background": "light"
     },
     "output_type": "display_data"
    }
   ],
   "source": [
    "# plot between PCA1 and PCA2 \n",
    "x = pca_values[:,0:1]\n",
    "y = pca_values[:,1:2]\n",
    "# = pca_values[:2:3]\n",
    "plt.scatter(x,y)"
   ]
  },
  {
   "cell_type": "code",
   "execution_count": 13,
   "id": "5ad97373",
   "metadata": {},
   "outputs": [
    {
     "data": {
      "text/html": [
       "<div>\n",
       "<style scoped>\n",
       "    .dataframe tbody tr th:only-of-type {\n",
       "        vertical-align: middle;\n",
       "    }\n",
       "\n",
       "    .dataframe tbody tr th {\n",
       "        vertical-align: top;\n",
       "    }\n",
       "\n",
       "    .dataframe thead th {\n",
       "        text-align: right;\n",
       "    }\n",
       "</style>\n",
       "<table border=\"1\" class=\"dataframe\">\n",
       "  <thead>\n",
       "    <tr style=\"text-align: right;\">\n",
       "      <th></th>\n",
       "      <th>pc1</th>\n",
       "      <th>pc2</th>\n",
       "    </tr>\n",
       "  </thead>\n",
       "  <tbody>\n",
       "    <tr>\n",
       "      <th>0</th>\n",
       "      <td>-1.779442</td>\n",
       "      <td>1.157303</td>\n",
       "    </tr>\n",
       "    <tr>\n",
       "      <th>1</th>\n",
       "      <td>-1.004185</td>\n",
       "      <td>2.071838</td>\n",
       "    </tr>\n",
       "    <tr>\n",
       "      <th>2</th>\n",
       "      <td>-0.915783</td>\n",
       "      <td>1.393434</td>\n",
       "    </tr>\n",
       "    <tr>\n",
       "      <th>3</th>\n",
       "      <td>2.404077</td>\n",
       "      <td>-0.213792</td>\n",
       "    </tr>\n",
       "    <tr>\n",
       "      <th>4</th>\n",
       "      <td>-1.779442</td>\n",
       "      <td>1.157303</td>\n",
       "    </tr>\n",
       "  </tbody>\n",
       "</table>\n",
       "</div>"
      ],
      "text/plain": [
       "        pc1       pc2\n",
       "0 -1.779442  1.157303\n",
       "1 -1.004185  2.071838\n",
       "2 -0.915783  1.393434\n",
       "3  2.404077 -0.213792\n",
       "4 -1.779442  1.157303"
      ]
     },
     "execution_count": 13,
     "metadata": {},
     "output_type": "execute_result"
    }
   ],
   "source": [
    "#Concatinating PC1 & PC2 with the 'Univ' Name Colums\n",
    "finalDf = pd.DataFrame(pca_values[:,0:2],columns=['pc1','pc2'])\n",
    "finalDf.head()"
   ]
  },
  {
   "cell_type": "code",
   "execution_count": null,
   "id": "a3bf0ed9",
   "metadata": {},
   "outputs": [],
   "source": []
  }
 ],
 "metadata": {
  "kernelspec": {
   "display_name": "Python 3",
   "language": "python",
   "name": "python3"
  },
  "language_info": {
   "codemirror_mode": {
    "name": "ipython",
    "version": 3
   },
   "file_extension": ".py",
   "mimetype": "text/x-python",
   "name": "python",
   "nbconvert_exporter": "python",
   "pygments_lexer": "ipython3",
   "version": "3.8.8"
  }
 },
 "nbformat": 4,
 "nbformat_minor": 5
}
