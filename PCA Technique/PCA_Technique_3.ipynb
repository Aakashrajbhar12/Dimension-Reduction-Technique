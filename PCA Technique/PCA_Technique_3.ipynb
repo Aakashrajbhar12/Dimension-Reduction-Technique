{
 "cells": [
  {
   "cell_type": "markdown",
   "id": "0907f4d6",
   "metadata": {},
   "source": [
    "### PCA Technique"
   ]
  },
  {
   "cell_type": "markdown",
   "id": "62cb3b1b",
   "metadata": {},
   "source": [
    "Problem Starement: Apply the PCA Technique to the Following Dataset\n",
    "    \n",
    "Dataset --> mpg dataset from Seaborn"
   ]
  },
  {
   "cell_type": "code",
   "execution_count": 1,
   "id": "30e167ee",
   "metadata": {},
   "outputs": [],
   "source": [
    "#Importing the Required Libraries\n",
    "import pandas as pd \n",
    "import numpy as np\n",
    "from sklearn.decomposition import PCA\n",
    "import matplotlib.pyplot as plt\n",
    "import seaborn as sns\n",
    "from sklearn.preprocessing import scale "
   ]
  },
  {
   "cell_type": "code",
   "execution_count": 2,
   "id": "9196b33a",
   "metadata": {},
   "outputs": [
    {
     "data": {
      "text/html": [
       "<div>\n",
       "<style scoped>\n",
       "    .dataframe tbody tr th:only-of-type {\n",
       "        vertical-align: middle;\n",
       "    }\n",
       "\n",
       "    .dataframe tbody tr th {\n",
       "        vertical-align: top;\n",
       "    }\n",
       "\n",
       "    .dataframe thead th {\n",
       "        text-align: right;\n",
       "    }\n",
       "</style>\n",
       "<table border=\"1\" class=\"dataframe\">\n",
       "  <thead>\n",
       "    <tr style=\"text-align: right;\">\n",
       "      <th></th>\n",
       "      <th>mpg</th>\n",
       "      <th>cylinders</th>\n",
       "      <th>displacement</th>\n",
       "      <th>horsepower</th>\n",
       "      <th>weight</th>\n",
       "      <th>acceleration</th>\n",
       "      <th>model_year</th>\n",
       "      <th>origin</th>\n",
       "      <th>name</th>\n",
       "    </tr>\n",
       "  </thead>\n",
       "  <tbody>\n",
       "    <tr>\n",
       "      <th>0</th>\n",
       "      <td>18.0</td>\n",
       "      <td>8</td>\n",
       "      <td>307.0</td>\n",
       "      <td>130.0</td>\n",
       "      <td>3504</td>\n",
       "      <td>12.0</td>\n",
       "      <td>70</td>\n",
       "      <td>usa</td>\n",
       "      <td>chevrolet chevelle malibu</td>\n",
       "    </tr>\n",
       "    <tr>\n",
       "      <th>1</th>\n",
       "      <td>15.0</td>\n",
       "      <td>8</td>\n",
       "      <td>350.0</td>\n",
       "      <td>165.0</td>\n",
       "      <td>3693</td>\n",
       "      <td>11.5</td>\n",
       "      <td>70</td>\n",
       "      <td>usa</td>\n",
       "      <td>buick skylark 320</td>\n",
       "    </tr>\n",
       "    <tr>\n",
       "      <th>2</th>\n",
       "      <td>18.0</td>\n",
       "      <td>8</td>\n",
       "      <td>318.0</td>\n",
       "      <td>150.0</td>\n",
       "      <td>3436</td>\n",
       "      <td>11.0</td>\n",
       "      <td>70</td>\n",
       "      <td>usa</td>\n",
       "      <td>plymouth satellite</td>\n",
       "    </tr>\n",
       "    <tr>\n",
       "      <th>3</th>\n",
       "      <td>16.0</td>\n",
       "      <td>8</td>\n",
       "      <td>304.0</td>\n",
       "      <td>150.0</td>\n",
       "      <td>3433</td>\n",
       "      <td>12.0</td>\n",
       "      <td>70</td>\n",
       "      <td>usa</td>\n",
       "      <td>amc rebel sst</td>\n",
       "    </tr>\n",
       "    <tr>\n",
       "      <th>4</th>\n",
       "      <td>17.0</td>\n",
       "      <td>8</td>\n",
       "      <td>302.0</td>\n",
       "      <td>140.0</td>\n",
       "      <td>3449</td>\n",
       "      <td>10.5</td>\n",
       "      <td>70</td>\n",
       "      <td>usa</td>\n",
       "      <td>ford torino</td>\n",
       "    </tr>\n",
       "  </tbody>\n",
       "</table>\n",
       "</div>"
      ],
      "text/plain": [
       "    mpg  cylinders  displacement  horsepower  weight  acceleration  \\\n",
       "0  18.0          8         307.0       130.0    3504          12.0   \n",
       "1  15.0          8         350.0       165.0    3693          11.5   \n",
       "2  18.0          8         318.0       150.0    3436          11.0   \n",
       "3  16.0          8         304.0       150.0    3433          12.0   \n",
       "4  17.0          8         302.0       140.0    3449          10.5   \n",
       "\n",
       "   model_year origin                       name  \n",
       "0          70    usa  chevrolet chevelle malibu  \n",
       "1          70    usa          buick skylark 320  \n",
       "2          70    usa         plymouth satellite  \n",
       "3          70    usa              amc rebel sst  \n",
       "4          70    usa                ford torino  "
      ]
     },
     "execution_count": 2,
     "metadata": {},
     "output_type": "execute_result"
    }
   ],
   "source": [
    "#Loading the Dataset\n",
    "mpg = sns.load_dataset('mpg')\n",
    "mpg.head()"
   ]
  },
  {
   "cell_type": "code",
   "execution_count": 3,
   "id": "719f75fb",
   "metadata": {},
   "outputs": [
    {
     "name": "stdout",
     "output_type": "stream",
     "text": [
      "<class 'pandas.core.frame.DataFrame'>\n",
      "RangeIndex: 398 entries, 0 to 397\n",
      "Data columns (total 9 columns):\n",
      " #   Column        Non-Null Count  Dtype  \n",
      "---  ------        --------------  -----  \n",
      " 0   mpg           398 non-null    float64\n",
      " 1   cylinders     398 non-null    int64  \n",
      " 2   displacement  398 non-null    float64\n",
      " 3   horsepower    392 non-null    float64\n",
      " 4   weight        398 non-null    int64  \n",
      " 5   acceleration  398 non-null    float64\n",
      " 6   model_year    398 non-null    int64  \n",
      " 7   origin        398 non-null    object \n",
      " 8   name          398 non-null    object \n",
      "dtypes: float64(4), int64(3), object(2)\n",
      "memory usage: 28.1+ KB\n"
     ]
    }
   ],
   "source": [
    "#Checking the Shape\n",
    "mpg.info()"
   ]
  },
  {
   "cell_type": "markdown",
   "id": "16465bf5",
   "metadata": {},
   "source": [
    "Inference: 'Horsepower' Column Contain NA values lets handle them"
   ]
  },
  {
   "cell_type": "code",
   "execution_count": 4,
   "id": "07bd74fb",
   "metadata": {},
   "outputs": [
    {
     "data": {
      "text/plain": [
       "(398,)"
      ]
     },
     "execution_count": 4,
     "metadata": {},
     "output_type": "execute_result"
    }
   ],
   "source": [
    "#Handling Missing value of 'Horsepower' column (Mean Imputation)\n",
    "\n",
    "#Getting Mean of Horsepower column\n",
    "mean = mpg['horsepower'].mean()\n",
    "#To fill NA value of 'horsepower' with its mean\n",
    "mpg['horsepower'] = mpg['horsepower'].fillna(mean)\n",
    "#Checking the missing value again\n",
    "mpg['horsepower'].shape"
   ]
  },
  {
   "cell_type": "markdown",
   "id": "d9a61c18",
   "metadata": {},
   "source": [
    "Inference: Missing Value of 'Horsepower' is Handled"
   ]
  },
  {
   "cell_type": "code",
   "execution_count": 5,
   "id": "2f5959e8",
   "metadata": {},
   "outputs": [
    {
     "data": {
      "text/html": [
       "<div>\n",
       "<style scoped>\n",
       "    .dataframe tbody tr th:only-of-type {\n",
       "        vertical-align: middle;\n",
       "    }\n",
       "\n",
       "    .dataframe tbody tr th {\n",
       "        vertical-align: top;\n",
       "    }\n",
       "\n",
       "    .dataframe thead th {\n",
       "        text-align: right;\n",
       "    }\n",
       "</style>\n",
       "<table border=\"1\" class=\"dataframe\">\n",
       "  <thead>\n",
       "    <tr style=\"text-align: right;\">\n",
       "      <th></th>\n",
       "      <th>mpg</th>\n",
       "      <th>cylinders</th>\n",
       "      <th>displacement</th>\n",
       "      <th>horsepower</th>\n",
       "      <th>weight</th>\n",
       "      <th>acceleration</th>\n",
       "      <th>model_year</th>\n",
       "    </tr>\n",
       "  </thead>\n",
       "  <tbody>\n",
       "    <tr>\n",
       "      <th>0</th>\n",
       "      <td>18.0</td>\n",
       "      <td>8</td>\n",
       "      <td>307.0</td>\n",
       "      <td>130.0</td>\n",
       "      <td>3504</td>\n",
       "      <td>12.0</td>\n",
       "      <td>70</td>\n",
       "    </tr>\n",
       "    <tr>\n",
       "      <th>1</th>\n",
       "      <td>15.0</td>\n",
       "      <td>8</td>\n",
       "      <td>350.0</td>\n",
       "      <td>165.0</td>\n",
       "      <td>3693</td>\n",
       "      <td>11.5</td>\n",
       "      <td>70</td>\n",
       "    </tr>\n",
       "    <tr>\n",
       "      <th>2</th>\n",
       "      <td>18.0</td>\n",
       "      <td>8</td>\n",
       "      <td>318.0</td>\n",
       "      <td>150.0</td>\n",
       "      <td>3436</td>\n",
       "      <td>11.0</td>\n",
       "      <td>70</td>\n",
       "    </tr>\n",
       "    <tr>\n",
       "      <th>3</th>\n",
       "      <td>16.0</td>\n",
       "      <td>8</td>\n",
       "      <td>304.0</td>\n",
       "      <td>150.0</td>\n",
       "      <td>3433</td>\n",
       "      <td>12.0</td>\n",
       "      <td>70</td>\n",
       "    </tr>\n",
       "    <tr>\n",
       "      <th>4</th>\n",
       "      <td>17.0</td>\n",
       "      <td>8</td>\n",
       "      <td>302.0</td>\n",
       "      <td>140.0</td>\n",
       "      <td>3449</td>\n",
       "      <td>10.5</td>\n",
       "      <td>70</td>\n",
       "    </tr>\n",
       "  </tbody>\n",
       "</table>\n",
       "</div>"
      ],
      "text/plain": [
       "    mpg  cylinders  displacement  horsepower  weight  acceleration  model_year\n",
       "0  18.0          8         307.0       130.0    3504          12.0          70\n",
       "1  15.0          8         350.0       165.0    3693          11.5          70\n",
       "2  18.0          8         318.0       150.0    3436          11.0          70\n",
       "3  16.0          8         304.0       150.0    3433          12.0          70\n",
       "4  17.0          8         302.0       140.0    3449          10.5          70"
      ]
     },
     "execution_count": 5,
     "metadata": {},
     "output_type": "execute_result"
    }
   ],
   "source": [
    "#Considering only numerical data \n",
    "mpg_data = mpg.iloc[:,:7]\n",
    "mpg_data.head()"
   ]
  },
  {
   "cell_type": "markdown",
   "id": "81983552",
   "metadata": {},
   "source": [
    "Inference: Drop 'origin' & 'Name' columns as it was of object Dtypes, There is Scaling effect in the Dataset so Normalization is Required."
   ]
  },
  {
   "cell_type": "code",
   "execution_count": 6,
   "id": "b7beffd4",
   "metadata": {},
   "outputs": [
    {
     "data": {
      "text/plain": [
       "array([[-0.7064387 ,  1.49819126,  1.0906037 , ...,  0.63086987,\n",
       "        -1.29549834, -1.62742629],\n",
       "       [-1.09075062,  1.49819126,  1.5035143 , ...,  0.85433297,\n",
       "        -1.47703779, -1.62742629],\n",
       "       [-0.7064387 ,  1.49819126,  1.19623199, ...,  0.55047045,\n",
       "        -1.65857724, -1.62742629],\n",
       "       ...,\n",
       "       [ 1.08701694, -0.85632057, -0.56103873, ..., -0.79858454,\n",
       "        -1.4407299 ,  1.62198339],\n",
       "       [ 0.57460104, -0.85632057, -0.70507731, ..., -0.40841088,\n",
       "         1.10082237,  1.62198339],\n",
       "       [ 0.95891297, -0.85632057, -0.71467988, ..., -0.29608816,\n",
       "         1.39128549,  1.62198339]])"
      ]
     },
     "execution_count": 6,
     "metadata": {},
     "output_type": "execute_result"
    }
   ],
   "source": [
    "#Converting into numpy array -- as scale() requires array format\n",
    "array = mpg_data.values\n",
    "#Normalizing the numerical data  by using scale()\n",
    "Normal = scale(array)\n",
    "Normal"
   ]
  },
  {
   "cell_type": "markdown",
   "id": "bd31ba2b",
   "metadata": {},
   "source": [
    "#### PCA"
   ]
  },
  {
   "cell_type": "code",
   "execution_count": 7,
   "id": "c5125d34",
   "metadata": {},
   "outputs": [],
   "source": [
    "#Creating PCA() instance, n_components = 7 --> Creating 7 PC's. --> As There are 7 Dimension in the Dataset\n",
    "#(It is not necessary to give n_components as pca will create itself based on the dimension present)\n",
    "pca = PCA(n_components = 7)\n",
    "pca_values = pca.fit_transform(Normal)"
   ]
  },
  {
   "cell_type": "code",
   "execution_count": 8,
   "id": "17ecd205",
   "metadata": {},
   "outputs": [
    {
     "data": {
      "text/plain": [
       "array([[ 2.66008827e+00,  9.19219419e-01, -5.59197333e-01, ...,\n",
       "        -5.47534893e-01, -7.40777191e-02, -1.19574629e-01],\n",
       "       [ 3.52167914e+00,  7.89385392e-01, -6.71599851e-01, ...,\n",
       "        -1.70492607e-02,  2.04892610e-01,  1.01955837e-01],\n",
       "       [ 2.99666032e+00,  8.61309939e-01, -9.82944731e-01, ...,\n",
       "        -2.73741407e-01,  1.45643292e-01, -5.52271378e-02],\n",
       "       ...,\n",
       "       [-1.54940832e+00, -1.25345047e+00, -1.90472043e+00, ...,\n",
       "        -2.69910971e-01, -2.52702784e-01,  1.48386234e-01],\n",
       "       [-2.02492653e+00, -1.13146107e+00,  6.11690169e-01, ...,\n",
       "         1.80130713e-01,  7.96337500e-02,  7.60849910e-02],\n",
       "       [-2.18499323e+00, -1.23614622e+00,  7.89736600e-01, ...,\n",
       "         4.61531880e-01,  9.80274056e-03,  2.78335044e-03]])"
      ]
     },
     "execution_count": 8,
     "metadata": {},
     "output_type": "execute_result"
    }
   ],
   "source": [
    "#Pca_values/scores\n",
    "pca_values"
   ]
  },
  {
   "cell_type": "markdown",
   "id": "d1134848",
   "metadata": {},
   "source": [
    "Inference: pca_values Gives the 7 PC's"
   ]
  },
  {
   "cell_type": "code",
   "execution_count": 9,
   "id": "acf46642",
   "metadata": {},
   "outputs": [
    {
     "data": {
      "text/plain": [
       "array([0.71421196, 0.12368206, 0.10411867, 0.02672353, 0.01817595,\n",
       "       0.00806647, 0.00502135])"
      ]
     },
     "execution_count": 9,
     "metadata": {},
     "output_type": "execute_result"
    }
   ],
   "source": [
    "# The amount of variance that each PCA explains is \n",
    "var = pca.explained_variance_ratio_\n",
    "var"
   ]
  },
  {
   "cell_type": "markdown",
   "id": "f9a1688a",
   "metadata": {},
   "source": [
    "Inference: Above Are the Variance of all 7 PC's, 1st PC Contain the Maximum variance (Maximum Information) i.e. 0.71 = 71%"
   ]
  },
  {
   "cell_type": "code",
   "execution_count": 10,
   "id": "9e212f4a",
   "metadata": {},
   "outputs": [
    {
     "data": {
      "text/plain": [
       "array([ 71.42,  83.79,  94.2 ,  96.87,  98.69,  99.5 , 100.  ])"
      ]
     },
     "execution_count": 10,
     "metadata": {},
     "output_type": "execute_result"
    }
   ],
   "source": [
    "# Cumulative variance \n",
    "var1 = np.cumsum(np.round(var,decimals = 4)*100)\n",
    "var1"
   ]
  },
  {
   "cell_type": "markdown",
   "id": "0066507f",
   "metadata": {},
   "source": [
    "Inference: Above Are the Cumulative Variance of all 7 PC's, 1st PC Contain the Maximum variance (Maximum Information) i.e. 71.42, next PC contain combine of 83.79 and So on till all 7 PC contains 100% Cumulative Variance"
   ]
  },
  {
   "cell_type": "code",
   "execution_count": 11,
   "id": "a5cd2a59",
   "metadata": {},
   "outputs": [
    {
     "data": {
      "text/plain": [
       "[<matplotlib.lines.Line2D at 0x24e3b71ed00>]"
      ]
     },
     "execution_count": 11,
     "metadata": {},
     "output_type": "execute_result"
    },
    {
     "data": {
      "image/png": "[encoded data removed]",
      "text/plain": [
       "<Figure size 432x288 with 1 Axes>"
      ]
     },
     "metadata": {
      "needs_background": "light"
     },
     "output_type": "display_data"
    }
   ],
   "source": [
    "# Variance plot for PCA components obtained \n",
    "plt.plot(var1,color=\"green\")"
   ]
  },
  {
   "cell_type": "markdown",
   "id": "e1b40f9c",
   "metadata": {},
   "source": [
    "Inference: The Above Plot is of Cumulative Variance 1st PC with around 71%, 2nd PC Around 83% and so on till 7th PC overall 100%"
   ]
  },
  {
   "cell_type": "code",
   "execution_count": 12,
   "id": "258ffd87",
   "metadata": {},
   "outputs": [
    {
     "data": {
      "text/plain": [
       "array([[-0.39788858,  0.41662091,  0.42987236,  0.42169968,  0.41439785,\n",
       "        -0.28482775, -0.22943061],\n",
       "       [-0.2118417 , -0.19112344, -0.1770462 , -0.09177648, -0.22149066,\n",
       "         0.02452386, -0.91058614],\n",
       "       [-0.25622271,  0.14093764,  0.10370054, -0.16802326,  0.27976321,\n",
       "         0.89271346, -0.01720781],\n",
       "       [ 0.74766479,  0.48509077,  0.29419874, -0.03929548, -0.11328544,\n",
       "         0.12619333, -0.29804182],\n",
       "       [ 0.32954795, -0.47302146, -0.06490695,  0.73848876,  0.22638038,\n",
       "         0.24316442, -0.08771129],\n",
       "       [-0.2355744 ,  0.35624317, -0.14648846,  0.48464459, -0.70641742,\n",
       "         0.20840268,  0.1371095 ],\n",
       "       [-0.08976585, -0.42902667,  0.8129489 , -0.06102848, -0.37127028,\n",
       "         0.05337642,  0.05076572]])"
      ]
     },
     "execution_count": 12,
     "metadata": {},
     "output_type": "execute_result"
    }
   ],
   "source": [
    "#Eigen vectors\n",
    "pca.components_"
   ]
  },
  {
   "cell_type": "markdown",
   "id": "eba45e47",
   "metadata": {},
   "source": [
    "Inference: The Above is the Eigen Vector for the Given Dataset"
   ]
  },
  {
   "cell_type": "code",
   "execution_count": 13,
   "id": "2069a138",
   "metadata": {},
   "outputs": [
    {
     "data": {
      "text/plain": [
       "array([[ 2.66008827],\n",
       "       [ 3.52167914],\n",
       "       [ 2.99666032],\n",
       "       [ 2.93592738],\n",
       "       [ 2.92912842],\n",
       "       [ 4.68516065],\n",
       "       [ 5.19228775],\n",
       "       [ 5.11035959],\n",
       "       [ 5.18305485],\n",
       "       [ 4.35029778],\n",
       "       [ 3.80459362],\n",
       "       [ 3.79690009],\n",
       "       [ 3.80241957],\n",
       "       [ 4.52699709],\n",
       "       [-0.6792353 ],\n",
       "       [ 0.43821071],\n",
       "       [ 0.63942211],\n",
       "       [ 0.21466582],\n",
       "       [-1.04243152],\n",
       "       [-2.22073089],\n",
       "       [-0.94256623],\n",
       "       [-0.67914432],\n",
       "       [-1.02442482],\n",
       "       [-0.35827074],\n",
       "       [ 0.39910745],\n",
       "       [ 4.56368957],\n",
       "       [ 3.95859546],\n",
       "       [ 4.22162711],\n",
       "       [ 3.73228301],\n",
       "       [-1.10455769],\n",
       "       [-0.99368334],\n",
       "       [-0.75947202],\n",
       "       [-1.32296904],\n",
       "       [ 0.88564787],\n",
       "       [ 1.20081421],\n",
       "       [ 1.14387746],\n",
       "       [ 0.89606563],\n",
       "       [ 0.9985161 ],\n",
       "       [ 3.71163647],\n",
       "       [ 4.2052119 ],\n",
       "       [ 3.40105342],\n",
       "       [ 3.25496294],\n",
       "       [ 4.53281794],\n",
       "       [ 4.28737759],\n",
       "       [ 4.53568917],\n",
       "       [ 1.26347748],\n",
       "       [-1.17821561],\n",
       "       [ 1.07061455],\n",
       "       [ 0.97058805],\n",
       "       [-0.72377906],\n",
       "       [-1.00671455],\n",
       "       [-2.0752464 ],\n",
       "       [-1.45911006],\n",
       "       [-2.31027828],\n",
       "       [-2.44080009],\n",
       "       [-2.02444828],\n",
       "       [-1.98354771],\n",
       "       [-0.90125145],\n",
       "       [-1.41160202],\n",
       "       [-2.20859399],\n",
       "       [-0.99114605],\n",
       "       [-0.93956062],\n",
       "       [ 3.73232887],\n",
       "       [ 4.05267134],\n",
       "       [ 3.10926666],\n",
       "       [ 3.3783857 ],\n",
       "       [ 2.92951208],\n",
       "       [ 4.91498028],\n",
       "       [ 3.57838368],\n",
       "       [ 3.66208352],\n",
       "       [ 4.23586436],\n",
       "       [-0.81471484],\n",
       "       [ 3.03583076],\n",
       "       [ 2.8748984 ],\n",
       "       [ 2.85399534],\n",
       "       [ 3.08011256],\n",
       "       [ 0.04984523],\n",
       "       [-1.12067703],\n",
       "       [-0.87806721],\n",
       "       [-1.66289963],\n",
       "       [-0.85602085],\n",
       "       [-1.35456495],\n",
       "       [-0.58415236],\n",
       "       [-1.337003  ],\n",
       "       [-1.38821259],\n",
       "       [ 3.59206843],\n",
       "       [ 3.02029923],\n",
       "       [ 3.20559115],\n",
       "       [ 2.73939015],\n",
       "       [ 2.9751494 ],\n",
       "       [ 4.7959392 ],\n",
       "       [ 3.80388848],\n",
       "       [ 3.53714845],\n",
       "       [ 3.04467267],\n",
       "       [ 4.92366832],\n",
       "       [ 5.25292309],\n",
       "       [ 3.70347801],\n",
       "       [ 0.7153971 ],\n",
       "       [ 0.78707084],\n",
       "       [ 0.65449966],\n",
       "       [ 0.58169041],\n",
       "       [ 0.18394085],\n",
       "       [-2.40247137],\n",
       "       [ 3.96015001],\n",
       "       [ 4.20762248],\n",
       "       [ 3.84951868],\n",
       "       [ 3.94550839],\n",
       "       [ 0.6814807 ],\n",
       "       [-1.26437535],\n",
       "       [-1.30663405],\n",
       "       [-0.94705709],\n",
       "       [-1.00417559],\n",
       "       [-1.07647113],\n",
       "       [ 0.23619161],\n",
       "       [-1.18887448],\n",
       "       [ 3.14970526],\n",
       "       [ 4.70265085],\n",
       "       [-2.5274774 ],\n",
       "       [-1.23085707],\n",
       "       [-0.49550831],\n",
       "       [-0.19851446],\n",
       "       [ 2.94506657],\n",
       "       [-0.42226624],\n",
       "       [ 0.67293583],\n",
       "       [ 3.74248449],\n",
       "       [ 0.3200328 ],\n",
       "       [ 0.21905766],\n",
       "       [ 0.5198441 ],\n",
       "       [ 0.90774846],\n",
       "       [-2.35480388],\n",
       "       [-1.27474761],\n",
       "       [-2.72359025],\n",
       "       [-1.21186262],\n",
       "       [ 1.07481   ],\n",
       "       [ 1.04194779],\n",
       "       [ 0.89433174],\n",
       "       [ 2.70869553],\n",
       "       [ 3.39197176],\n",
       "       [ 3.19375287],\n",
       "       [ 2.84731847],\n",
       "       [ 2.83114045],\n",
       "       [-1.60724085],\n",
       "       [-1.73162653],\n",
       "       [-1.26720562],\n",
       "       [-2.42192924],\n",
       "       [-2.42961586],\n",
       "       [-1.51694633],\n",
       "       [-1.42480618],\n",
       "       [-1.19668647],\n",
       "       [-0.81941262],\n",
       "       [-1.1148266 ],\n",
       "       [-2.02006099],\n",
       "       [ 0.55141166],\n",
       "       [ 0.91165606],\n",
       "       [ 0.16950389],\n",
       "       [ 0.190377  ],\n",
       "       [ 3.8994501 ],\n",
       "       [ 3.09744401],\n",
       "       [ 2.94635793],\n",
       "       [ 3.34373217],\n",
       "       [ 0.64189217],\n",
       "       [ 0.96966382],\n",
       "       [ 0.97539396],\n",
       "       [ 0.54740761],\n",
       "       [ 0.63321128],\n",
       "       [ 1.54691143],\n",
       "       [ 2.40848322],\n",
       "       [-1.73373266],\n",
       "       [-1.03609325],\n",
       "       [ 0.41311631],\n",
       "       [-1.26951078],\n",
       "       [-0.57531774],\n",
       "       [-1.62918645],\n",
       "       [-1.06505875],\n",
       "       [ 0.41951735],\n",
       "       [-1.72571575],\n",
       "       [ 0.39565701],\n",
       "       [-0.77287186],\n",
       "       [-0.90757633],\n",
       "       [-0.48928562],\n",
       "       [-0.48512571],\n",
       "       [-2.54490667],\n",
       "       [-1.38675561],\n",
       "       [-1.51628971],\n",
       "       [-0.91633715],\n",
       "       [-1.72925276],\n",
       "       [-1.50139874],\n",
       "       [ 2.66004223],\n",
       "       [ 2.88844619],\n",
       "       [ 2.31975522],\n",
       "       [ 3.1561617 ],\n",
       "       [ 0.43849929],\n",
       "       [ 0.74883201],\n",
       "       [-0.31244858],\n",
       "       [ 0.0313479 ],\n",
       "       [-2.80742869],\n",
       "       [-2.36242269],\n",
       "       [-1.80852491],\n",
       "       [-2.59669135],\n",
       "       [ 0.50739082],\n",
       "       [ 0.09035918],\n",
       "       [ 0.94976103],\n",
       "       [ 0.48102807],\n",
       "       [-1.64210765],\n",
       "       [-2.24567155],\n",
       "       [-1.79409308],\n",
       "       [-1.08285187],\n",
       "       [-0.39176103],\n",
       "       [ 2.89818628],\n",
       "       [-1.11919351],\n",
       "       [ 0.2362163 ],\n",
       "       [ 0.85778664],\n",
       "       [ 3.5128205 ],\n",
       "       [ 3.15545496],\n",
       "       [ 2.39062826],\n",
       "       [ 2.72481154],\n",
       "       [-2.37893107],\n",
       "       [-1.67964029],\n",
       "       [-2.91539758],\n",
       "       [-1.22935552],\n",
       "       [-2.38561964],\n",
       "       [ 2.54075354],\n",
       "       [ 1.40961171],\n",
       "       [ 2.69965012],\n",
       "       [ 2.44513478],\n",
       "       [ 0.85667785],\n",
       "       [ 0.47181409],\n",
       "       [ 0.48594658],\n",
       "       [ 0.40663703],\n",
       "       [ 3.70759509],\n",
       "       [ 3.35818041],\n",
       "       [ 3.78130399],\n",
       "       [ 2.86740861],\n",
       "       [-1.78288341],\n",
       "       [-0.98322763],\n",
       "       [-1.88652823],\n",
       "       [-1.04051963],\n",
       "       [-2.22516471],\n",
       "       [-2.03149477],\n",
       "       [-2.12988195],\n",
       "       [-1.69548385],\n",
       "       [-0.09461984],\n",
       "       [-0.44864288],\n",
       "       [-0.87671583],\n",
       "       [-3.6260554 ],\n",
       "       [-2.39367028],\n",
       "       [-2.88920261],\n",
       "       [-2.87337713],\n",
       "       [-2.69571566],\n",
       "       [ 1.22109875],\n",
       "       [ 2.23674296],\n",
       "       [ 2.07938901],\n",
       "       [ 0.29199169],\n",
       "       [-0.09553915],\n",
       "       [-0.03567842],\n",
       "       [-1.0690934 ],\n",
       "       [ 0.30107902],\n",
       "       [ 0.1677171 ],\n",
       "       [ 0.496299  ],\n",
       "       [-0.10788863],\n",
       "       [ 0.44642817],\n",
       "       [ 0.98806966],\n",
       "       [ 2.09665377],\n",
       "       [ 1.58736186],\n",
       "       [ 2.17305649],\n",
       "       [ 2.45091713],\n",
       "       [-2.10387497],\n",
       "       [-1.09311345],\n",
       "       [-1.29673087],\n",
       "       [-1.79990312],\n",
       "       [-0.85099557],\n",
       "       [-0.84048501],\n",
       "       [-1.15195259],\n",
       "       [-1.0977633 ],\n",
       "       [-0.44835923],\n",
       "       [ 0.73008914],\n",
       "       [-0.66496017],\n",
       "       [ 0.76406972],\n",
       "       [-2.09970204],\n",
       "       [-2.09853013],\n",
       "       [ 0.47405396],\n",
       "       [-0.313363  ],\n",
       "       [-1.1016955 ],\n",
       "       [-0.01165305],\n",
       "       [ 0.37214132],\n",
       "       [ 1.95668414],\n",
       "       [ 2.05314883],\n",
       "       [ 2.5443377 ],\n",
       "       [ 2.02023158],\n",
       "       [ 2.73035777],\n",
       "       [ 2.57427205],\n",
       "       [ 1.55864645],\n",
       "       [ 2.62552064],\n",
       "       [-2.12099067],\n",
       "       [-2.41143097],\n",
       "       [-2.22431505],\n",
       "       [-1.39844203],\n",
       "       [-0.93454645],\n",
       "       [ 1.60391293],\n",
       "       [-2.16385745],\n",
       "       [ 0.06808809],\n",
       "       [-1.96576029],\n",
       "       [-2.18135508],\n",
       "       [-2.68993684],\n",
       "       [-2.38203413],\n",
       "       [-1.31845779],\n",
       "       [-0.03192555],\n",
       "       [-0.04400134],\n",
       "       [-1.34470414],\n",
       "       [-2.54511062],\n",
       "       [-3.09604841],\n",
       "       [-2.22679356],\n",
       "       [-2.73410723],\n",
       "       [-1.4079833 ],\n",
       "       [-1.46533439],\n",
       "       [-1.43244669],\n",
       "       [-0.04147817],\n",
       "       [-2.25233791],\n",
       "       [-1.4503216 ],\n",
       "       [-2.04000272],\n",
       "       [-1.94113673],\n",
       "       [-2.03327609],\n",
       "       [-3.32377161],\n",
       "       [-0.93949933],\n",
       "       [-3.1667065 ],\n",
       "       [-3.78315997],\n",
       "       [-3.82162561],\n",
       "       [-2.18731167],\n",
       "       [-2.05263438],\n",
       "       [-2.8824718 ],\n",
       "       [-2.67378401],\n",
       "       [-2.59702083],\n",
       "       [-2.34919432],\n",
       "       [ 0.01842537],\n",
       "       [-1.37061683],\n",
       "       [-1.8490285 ],\n",
       "       [-0.73044732],\n",
       "       [-2.25465624],\n",
       "       [-1.57107971],\n",
       "       [-1.47579708],\n",
       "       [-1.12647321],\n",
       "       [-0.01204246],\n",
       "       [-1.47568287],\n",
       "       [-3.18040456],\n",
       "       [-2.96958916],\n",
       "       [-2.86097583],\n",
       "       [-2.60120423],\n",
       "       [-3.12197018],\n",
       "       [-2.92038014],\n",
       "       [-2.55971609],\n",
       "       [-2.3613279 ],\n",
       "       [-2.57055776],\n",
       "       [-2.6424181 ],\n",
       "       [-2.09294831],\n",
       "       [-1.95502338],\n",
       "       [-2.12020271],\n",
       "       [-2.22941372],\n",
       "       [-1.59648832],\n",
       "       [-2.16563919],\n",
       "       [-1.75987909],\n",
       "       [-1.38120189],\n",
       "       [ 0.02253653],\n",
       "       [-0.07229706],\n",
       "       [ 0.29058807],\n",
       "       [ 0.82388975],\n",
       "       [-0.27678991],\n",
       "       [ 0.17591349],\n",
       "       [-2.07168324],\n",
       "       [-1.90014855],\n",
       "       [-2.31493778],\n",
       "       [-1.92084474],\n",
       "       [-1.73882973],\n",
       "       [-1.60845918],\n",
       "       [-1.24968692],\n",
       "       [-1.35618805],\n",
       "       [-2.52463606],\n",
       "       [-2.97757292],\n",
       "       [-2.63664516],\n",
       "       [-2.61507223],\n",
       "       [-2.73353032],\n",
       "       [-2.13704548],\n",
       "       [-2.31235373],\n",
       "       [-2.490148  ],\n",
       "       [-2.73806725],\n",
       "       [-2.50463106],\n",
       "       [-2.84746635],\n",
       "       [-0.40278763],\n",
       "       [-1.03514014],\n",
       "       [-1.22628373],\n",
       "       [ 0.10466407],\n",
       "       [-1.43618554],\n",
       "       [-1.8613266 ],\n",
       "       [-1.4307271 ],\n",
       "       [-1.42293569],\n",
       "       [-4.09686736],\n",
       "       [-1.54940832],\n",
       "       [-2.02492653],\n",
       "       [-2.18499323]])"
      ]
     },
     "execution_count": 13,
     "metadata": {},
     "output_type": "execute_result"
    }
   ],
   "source": [
    "#Fetching / Indexing pca1\n",
    "pca_values[:,0:1]"
   ]
  },
  {
   "cell_type": "code",
   "execution_count": 14,
   "id": "296602c6",
   "metadata": {},
   "outputs": [
    {
     "data": {
      "text/plain": [
       "<matplotlib.collections.PathCollection at 0x24e3b8078e0>"
      ]
     },
     "execution_count": 14,
     "metadata": {},
     "output_type": "execute_result"
    },
    {
     "data": {
      "image/png": "[encoded data removed]",
      "text/plain": [
       "<Figure size 432x288 with 1 Axes>"
      ]
     },
     "metadata": {
      "needs_background": "light"
     },
     "output_type": "display_data"
    }
   ],
   "source": [
    "# plot between PCA1 and PCA2 \n",
    "x = pca_values[:,0:1]\n",
    "y = pca_values[:,1:2]\n",
    "# = pca_values[:2:3]\n",
    "plt.scatter(x,y)"
   ]
  },
  {
   "cell_type": "code",
   "execution_count": 15,
   "id": "890eb533",
   "metadata": {},
   "outputs": [
    {
     "data": {
      "text/html": [
       "<div>\n",
       "<style scoped>\n",
       "    .dataframe tbody tr th:only-of-type {\n",
       "        vertical-align: middle;\n",
       "    }\n",
       "\n",
       "    .dataframe tbody tr th {\n",
       "        vertical-align: top;\n",
       "    }\n",
       "\n",
       "    .dataframe thead th {\n",
       "        text-align: right;\n",
       "    }\n",
       "</style>\n",
       "<table border=\"1\" class=\"dataframe\">\n",
       "  <thead>\n",
       "    <tr style=\"text-align: right;\">\n",
       "      <th></th>\n",
       "      <th>pc1</th>\n",
       "      <th>pc2</th>\n",
       "      <th>origin</th>\n",
       "      <th>name</th>\n",
       "    </tr>\n",
       "  </thead>\n",
       "  <tbody>\n",
       "    <tr>\n",
       "      <th>0</th>\n",
       "      <td>2.660088</td>\n",
       "      <td>0.919219</td>\n",
       "      <td>usa</td>\n",
       "      <td>chevrolet chevelle malibu</td>\n",
       "    </tr>\n",
       "    <tr>\n",
       "      <th>1</th>\n",
       "      <td>3.521679</td>\n",
       "      <td>0.789385</td>\n",
       "      <td>usa</td>\n",
       "      <td>buick skylark 320</td>\n",
       "    </tr>\n",
       "    <tr>\n",
       "      <th>2</th>\n",
       "      <td>2.996660</td>\n",
       "      <td>0.861310</td>\n",
       "      <td>usa</td>\n",
       "      <td>plymouth satellite</td>\n",
       "    </tr>\n",
       "    <tr>\n",
       "      <th>3</th>\n",
       "      <td>2.935927</td>\n",
       "      <td>0.949077</td>\n",
       "      <td>usa</td>\n",
       "      <td>amc rebel sst</td>\n",
       "    </tr>\n",
       "    <tr>\n",
       "      <th>4</th>\n",
       "      <td>2.929128</td>\n",
       "      <td>0.931849</td>\n",
       "      <td>usa</td>\n",
       "      <td>ford torino</td>\n",
       "    </tr>\n",
       "  </tbody>\n",
       "</table>\n",
       "</div>"
      ],
      "text/plain": [
       "        pc1       pc2 origin                       name\n",
       "0  2.660088  0.919219    usa  chevrolet chevelle malibu\n",
       "1  3.521679  0.789385    usa          buick skylark 320\n",
       "2  2.996660  0.861310    usa         plymouth satellite\n",
       "3  2.935927  0.949077    usa              amc rebel sst\n",
       "4  2.929128  0.931849    usa                ford torino"
      ]
     },
     "execution_count": 15,
     "metadata": {},
     "output_type": "execute_result"
    }
   ],
   "source": [
    "#Concatinating PC1 & PC2 with the 'species' Name Colums\n",
    "finalDf = pd.concat([pd.DataFrame(pca_values[:,0:2],columns=['pc1','pc2']), mpg[['origin','name']]], axis = 1)\n",
    "finalDf.head()"
   ]
  },
  {
   "cell_type": "code",
   "execution_count": 16,
   "id": "65a7d846",
   "metadata": {},
   "outputs": [
    {
     "data": {
      "image/png": "[encoded data removed]",
      "text/plain": [
       "<Figure size 720x576 with 1 Axes>"
      ]
     },
     "metadata": {
      "needs_background": "light"
     },
     "output_type": "display_data"
    }
   ],
   "source": [
    "#Plotting Each Datapoints From PC1 & PC2 based on 'Origin' column\n",
    "plt.figure(figsize=(10,8))\n",
    "sns.scatterplot(data=finalDf,x='pc1',y='pc2',hue='origin')\n",
    "plt.title('Plotting Each Datapoints From PC1 & PC2')\n",
    "plt.show()"
   ]
  }
 ],
 "metadata": {
  "kernelspec": {
   "display_name": "Python 3",
   "language": "python",
   "name": "python3"
  },
  "language_info": {
   "codemirror_mode": {
    "name": "ipython",
    "version": 3
   },
   "file_extension": ".py",
   "mimetype": "text/x-python",
   "name": "python",
   "nbconvert_exporter": "python",
   "pygments_lexer": "ipython3",
   "version": "3.8.8"
  }
 },
 "nbformat": 4,
 "nbformat_minor": 5
}
