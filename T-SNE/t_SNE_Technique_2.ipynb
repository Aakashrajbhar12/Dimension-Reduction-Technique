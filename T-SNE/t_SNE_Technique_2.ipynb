{
 "cells": [
  {
   "cell_type": "markdown",
   "id": "deca4303",
   "metadata": {},
   "source": [
    "### t-SNE Technique \n",
    "It Stands For t-Distributed Stochastic Neighbor Embedding"
   ]
  },
  {
   "cell_type": "markdown",
   "id": "98ffb9b5",
   "metadata": {},
   "source": [
    "Problem Statement: Apply t-SNE Technique on the Following Dataset\n",
    "\n",
    "Dataset --> Iris Dataset"
   ]
  },
  {
   "cell_type": "code",
   "execution_count": 1,
   "id": "8a3ab811",
   "metadata": {},
   "outputs": [],
   "source": [
    "#Importing Required Libraries\n",
    "import pandas as pd\n",
    "import matplotlib.pyplot as plt\n",
    "import seaborn as sns\n",
    "from sklearn.manifold import TSNE\n",
    "from bioinfokit.visuz import cluster"
   ]
  },
  {
   "cell_type": "code",
   "execution_count": 2,
   "id": "fbe30ad3",
   "metadata": {},
   "outputs": [
    {
     "data": {
      "text/html": [
       "<div>\n",
       "<style scoped>\n",
       "    .dataframe tbody tr th:only-of-type {\n",
       "        vertical-align: middle;\n",
       "    }\n",
       "\n",
       "    .dataframe tbody tr th {\n",
       "        vertical-align: top;\n",
       "    }\n",
       "\n",
       "    .dataframe thead th {\n",
       "        text-align: right;\n",
       "    }\n",
       "</style>\n",
       "<table border=\"1\" class=\"dataframe\">\n",
       "  <thead>\n",
       "    <tr style=\"text-align: right;\">\n",
       "      <th></th>\n",
       "      <th>sepal_length</th>\n",
       "      <th>sepal_width</th>\n",
       "      <th>petal_length</th>\n",
       "      <th>petal_width</th>\n",
       "      <th>species</th>\n",
       "    </tr>\n",
       "  </thead>\n",
       "  <tbody>\n",
       "    <tr>\n",
       "      <th>0</th>\n",
       "      <td>5.1</td>\n",
       "      <td>3.5</td>\n",
       "      <td>1.4</td>\n",
       "      <td>0.2</td>\n",
       "      <td>setosa</td>\n",
       "    </tr>\n",
       "    <tr>\n",
       "      <th>1</th>\n",
       "      <td>4.9</td>\n",
       "      <td>3.0</td>\n",
       "      <td>1.4</td>\n",
       "      <td>0.2</td>\n",
       "      <td>setosa</td>\n",
       "    </tr>\n",
       "    <tr>\n",
       "      <th>2</th>\n",
       "      <td>4.7</td>\n",
       "      <td>3.2</td>\n",
       "      <td>1.3</td>\n",
       "      <td>0.2</td>\n",
       "      <td>setosa</td>\n",
       "    </tr>\n",
       "    <tr>\n",
       "      <th>3</th>\n",
       "      <td>4.6</td>\n",
       "      <td>3.1</td>\n",
       "      <td>1.5</td>\n",
       "      <td>0.2</td>\n",
       "      <td>setosa</td>\n",
       "    </tr>\n",
       "    <tr>\n",
       "      <th>4</th>\n",
       "      <td>5.0</td>\n",
       "      <td>3.6</td>\n",
       "      <td>1.4</td>\n",
       "      <td>0.2</td>\n",
       "      <td>setosa</td>\n",
       "    </tr>\n",
       "  </tbody>\n",
       "</table>\n",
       "</div>"
      ],
      "text/plain": [
       "   sepal_length  sepal_width  petal_length  petal_width species\n",
       "0           5.1          3.5           1.4          0.2  setosa\n",
       "1           4.9          3.0           1.4          0.2  setosa\n",
       "2           4.7          3.2           1.3          0.2  setosa\n",
       "3           4.6          3.1           1.5          0.2  setosa\n",
       "4           5.0          3.6           1.4          0.2  setosa"
      ]
     },
     "execution_count": 2,
     "metadata": {},
     "output_type": "execute_result"
    }
   ],
   "source": [
    "#Loading the Dataset\n",
    "iris = sns.load_dataset('iris')\n",
    "iris.head()"
   ]
  },
  {
   "cell_type": "code",
   "execution_count": 3,
   "id": "a13672a0",
   "metadata": {},
   "outputs": [
    {
     "data": {
      "text/plain": [
       "(150, 5)"
      ]
     },
     "execution_count": 3,
     "metadata": {},
     "output_type": "execute_result"
    }
   ],
   "source": [
    "#Checking the Shape\n",
    "iris.shape"
   ]
  },
  {
   "cell_type": "markdown",
   "id": "d2450647",
   "metadata": {},
   "source": [
    "Inference: The Column 'species' is an output variable also an object dtypes, so going to separate that column "
   ]
  },
  {
   "cell_type": "code",
   "execution_count": 4,
   "id": "43279029",
   "metadata": {},
   "outputs": [],
   "source": [
    "# Split-out validation dataset\n",
    "array = iris.values\n",
    "# separate array into input and output components\n",
    "X = array[:,:3]\n",
    "Y = array[:,4]"
   ]
  },
  {
   "cell_type": "markdown",
   "id": "53e65ead",
   "metadata": {},
   "source": [
    "#### t-SNE"
   ]
  },
  {
   "cell_type": "code",
   "execution_count": 5,
   "id": "b89886bd",
   "metadata": {},
   "outputs": [],
   "source": [
    "#TSNE visualization\n",
    "from bioinfokit.visuz import cluster\n",
    "data_tsne = TSNE(n_components=2).fit_transform(X)\n",
    "cluster.tsneplot(score=data_tsne)"
   ]
  },
  {
   "cell_type": "code",
   "execution_count": 6,
   "id": "5a750d87",
   "metadata": {},
   "outputs": [],
   "source": [
    "# get a list of categories\n",
    "color_class = iris['species'].to_numpy()\n",
    "cluster.tsneplot(score=data_tsne, colorlist=color_class, legendpos='upper right',legendanchor=(1.15, 1))\n",
    "\n",
    "#Plot will be stored in the default directory"
   ]
  },
  {
   "cell_type": "code",
   "execution_count": 7,
   "id": "e584db3a",
   "metadata": {},
   "outputs": [
    {
     "data": {
      "text/plain": [
       "array([[ 10.542844 ,  22.073158 ],\n",
       "       [  9.558037 ,  19.408777 ],\n",
       "       [ 10.787603 ,  19.236816 ],\n",
       "       [ 10.495508 ,  18.915901 ],\n",
       "       [ 11.189242 ,  22.06264  ],\n",
       "       [ 11.057413 ,  23.961908 ],\n",
       "       [ 11.400005 ,  19.496979 ],\n",
       "       [ 10.467708 ,  21.252344 ],\n",
       "       [ 10.37835  ,  18.152409 ],\n",
       "       [  9.918524 ,  19.886583 ],\n",
       "       [ 10.35264  ,  23.535418 ],\n",
       "       [ 10.993089 ,  20.51369  ],\n",
       "       [  9.849525 ,  19.10151  ],\n",
       "       [ 10.961655 ,  17.938494 ],\n",
       "       [ 10.360566 ,  24.848722 ],\n",
       "       [ 10.948778 ,  24.998108 ],\n",
       "       [ 10.658829 ,  24.103182 ],\n",
       "       [ 10.542844 ,  22.073158 ],\n",
       "       [ 10.101226 ,  24.333023 ],\n",
       "       [ 11.2520895,  23.046047 ],\n",
       "       [  9.43759  ,  22.801634 ],\n",
       "       [ 11.069988 ,  22.70892  ],\n",
       "       [ 12.245186 ,  19.5096   ],\n",
       "       [  9.673478 ,  21.339804 ],\n",
       "       [ 11.613287 ,  20.604025 ],\n",
       "       [  9.315107 ,  19.842243 ],\n",
       "       [ 10.507721 ,  21.202656 ],\n",
       "       [ 10.254987 ,  22.447989 ],\n",
       "       [  9.895532 ,  22.078817 ],\n",
       "       [ 10.70826  ,  19.691181 ],\n",
       "       [ 10.2280445,  19.6624   ],\n",
       "       [  9.626782 ,  22.808422 ],\n",
       "       [ 11.460295 ,  24.087831 ],\n",
       "       [ 11.002693 ,  24.683191 ],\n",
       "       [  9.919021 ,  19.886927 ],\n",
       "       [  9.475257 ,  20.465458 ],\n",
       "       [  9.666564 ,  23.435556 ],\n",
       "       [ 11.439372 ,  21.674868 ],\n",
       "       [ 10.708018 ,  18.21906  ],\n",
       "       [ 10.131377 ,  21.673208 ],\n",
       "       [ 11.059843 ,  21.628359 ],\n",
       "       [  9.692366 ,  17.78655  ],\n",
       "       [ 11.22932  ,  18.527006 ],\n",
       "       [ 10.856275 ,  21.57092  ],\n",
       "       [ 11.940411 ,  23.238556 ],\n",
       "       [  9.849524 ,  19.10151  ],\n",
       "       [ 11.377076 ,  23.097792 ],\n",
       "       [ 10.912446 ,  19.056177 ],\n",
       "       [ 10.579121 ,  23.269531 ],\n",
       "       [ 10.11948  ,  20.855568 ],\n",
       "       [ -8.207273 , -13.532804 ],\n",
       "       [ -7.136024 , -11.548997 ],\n",
       "       [ -7.8838277, -14.069973 ],\n",
       "       [ -4.916183 ,  -6.371862 ],\n",
       "       [ -7.041498 , -12.300593 ],\n",
       "       [ -4.7045717,  -9.006275 ],\n",
       "       [ -6.601304 , -11.573962 ],\n",
       "       [ -4.7658534,  -4.8321476],\n",
       "       [ -7.428786 , -12.492495 ],\n",
       "       [ -4.5117908,  -6.205973 ],\n",
       "       [ -4.5858836,  -5.043659 ],\n",
       "       [ -5.6301823,  -8.682807 ],\n",
       "       [ -6.6325336,  -7.1257415],\n",
       "       [ -5.5324154, -11.413272 ],\n",
       "       [ -5.777046 ,  -6.2166667],\n",
       "       [ -7.911258 , -12.191173 ],\n",
       "       [ -4.5183816,  -8.988399 ],\n",
       "       [ -5.6057744,  -7.601488 ],\n",
       "       [ -7.6350274,  -9.2578335],\n",
       "       [ -5.3256726,  -6.585109 ],\n",
       "       [ -4.8828855, -10.925884 ],\n",
       "       [ -6.275618 ,  -8.137595 ],\n",
       "       [ -5.129568 , -13.214315 ],\n",
       "       [ -5.4889145, -11.593209 ],\n",
       "       [ -7.2958274, -10.953864 ],\n",
       "       [ -7.6895485, -11.908685 ],\n",
       "       [ -7.5174046, -13.481089 ],\n",
       "       [ -7.3301806, -14.381054 ],\n",
       "       [ -5.5275946, -10.207047 ],\n",
       "       [ -5.589951 ,  -5.841011 ],\n",
       "       [ -5.112911 ,  -6.085228 ],\n",
       "       [ -5.128637 ,  -5.8695936],\n",
       "       [ -5.7220187,  -7.096007 ],\n",
       "       [ -4.255375 , -12.748925 ],\n",
       "       [ -4.1717067,  -8.647445 ],\n",
       "       [ -5.9034996, -10.392504 ],\n",
       "       [ -7.743463 , -13.0473585],\n",
       "       [ -7.617172 ,  -9.291033 ],\n",
       "       [ -4.937742 ,  -7.909491 ],\n",
       "       [ -4.9587345,  -6.6699934],\n",
       "       [ -4.3257027,  -7.6996717],\n",
       "       [ -5.783148 , -10.982532 ],\n",
       "       [ -5.709854 ,  -7.1571603],\n",
       "       [ -4.7835803,  -4.8880506],\n",
       "       [ -4.838699 ,  -7.4866004],\n",
       "       [ -5.131108 ,  -8.329022 ],\n",
       "       [ -5.132645 ,  -8.136134 ],\n",
       "       [ -6.566289 , -10.105164 ],\n",
       "       [ -4.8291464,  -4.64971  ],\n",
       "       [ -5.2632527,  -7.62395  ],\n",
       "       [ -7.715894 , -17.39782  ],\n",
       "       [ -3.708106 , -12.293953 ],\n",
       "       [ -6.4605694, -18.931181 ],\n",
       "       [ -5.7426105, -16.383106 ],\n",
       "       [ -6.0398808, -17.341211 ],\n",
       "       [ -6.546821 , -20.42839  ],\n",
       "       [ -6.6476226,  -5.6951456],\n",
       "       [ -6.3015814, -19.839985 ],\n",
       "       [ -7.6268787, -18.19736  ],\n",
       "       [ -7.2321863, -19.49471  ],\n",
       "       [ -7.034541 , -15.0614195],\n",
       "       [ -5.539393 , -15.154923 ],\n",
       "       [ -6.5952425, -17.219902 ],\n",
       "       [ -3.3265014, -12.199766 ],\n",
       "       [ -3.8304975, -12.09699  ],\n",
       "       [ -6.896844 , -15.872356 ],\n",
       "       [ -6.3673964, -16.482376 ],\n",
       "       [ -7.3056064, -20.47676  ],\n",
       "       [ -6.2241397, -20.712294 ],\n",
       "       [ -3.7876098, -13.316646 ],\n",
       "       [ -6.54011  , -18.16376  ],\n",
       "       [ -3.630573 , -11.277018 ],\n",
       "       [ -6.3567777, -20.5778   ],\n",
       "       [ -5.481517 , -12.992614 ],\n",
       "       [ -6.8412423, -17.735151 ],\n",
       "       [ -6.7080054, -19.2533   ],\n",
       "       [ -5.5283427, -12.239351 ],\n",
       "       [ -5.1400347, -11.908603 ],\n",
       "       [ -5.6653714, -16.480677 ],\n",
       "       [ -6.3773475, -18.978197 ],\n",
       "       [ -6.1871066, -19.721952 ],\n",
       "       [ -7.3431125, -20.419497 ],\n",
       "       [ -5.665372 , -16.480675 ],\n",
       "       [ -5.469798 , -13.914693 ],\n",
       "       [ -4.8706455, -15.78098  ],\n",
       "       [ -6.4953547, -20.031548 ],\n",
       "       [ -7.4891195, -16.667747 ],\n",
       "       [ -6.5452685, -16.384268 ],\n",
       "       [ -5.0421596, -11.37477  ],\n",
       "       [ -7.010903 , -17.087969 ],\n",
       "       [ -6.5366163, -17.353645 ],\n",
       "       [ -7.7686014, -14.828495 ],\n",
       "       [ -3.7085946, -12.294238 ],\n",
       "       [ -6.6663313, -18.314274 ],\n",
       "       [ -6.8412437, -17.735151 ],\n",
       "       [ -7.10535  , -15.273807 ],\n",
       "       [ -4.9867744, -13.439127 ],\n",
       "       [ -6.5988   , -15.262076 ],\n",
       "       [ -7.529977 , -16.23737  ],\n",
       "       [ -4.2787795, -11.983582 ]], dtype=float32)"
      ]
     },
     "execution_count": 7,
     "metadata": {},
     "output_type": "execute_result"
    }
   ],
   "source": [
    "data_tsne"
   ]
  },
  {
   "cell_type": "code",
   "execution_count": null,
   "id": "1f423fda",
   "metadata": {},
   "outputs": [],
   "source": []
  }
 ],
 "metadata": {
  "kernelspec": {
   "display_name": "Python 3",
   "language": "python",
   "name": "python3"
  },
  "language_info": {
   "codemirror_mode": {
    "name": "ipython",
    "version": 3
   },
   "file_extension": ".py",
   "mimetype": "text/x-python",
   "name": "python",
   "nbconvert_exporter": "python",
   "pygments_lexer": "ipython3",
   "version": "3.8.8"
  }
 },
 "nbformat": 4,
 "nbformat_minor": 5
}
